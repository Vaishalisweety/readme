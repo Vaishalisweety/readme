{
  "nbformat": 4,
  "nbformat_minor": 0,
  "metadata": {
    "colab": {
      "name": "Untitled",
      "provenance": [],
      "authorship_tag": "ABX9TyPaRVBstylKAp4A1+lsZDPY",
      "include_colab_link": true
    },
    "kernelspec": {
      "name": "python3",
      "display_name": "Python 3"
    },
    "language_info": {
      "name": "python"
    }
  },
  "cells": [
    {
      "cell_type": "markdown",
      "metadata": {
        "id": "view-in-github",
        "colab_type": "text"
      },
      "source": [
        "<a href=\"https://colab.research.google.com/github/Vaishalisweety/readme/blob/main/Count.ipynb\" target=\"_parent\"><img src=\"https://colab.research.google.com/assets/colab-badge.svg\" alt=\"Open In Colab\"/></a>"
      ]
    },
    {
      "cell_type": "code",
      "source": [
        "string = input(\"Please enter any String : \")\n",
        "words = []\n",
        "\n",
        "words = string.split() \n",
        "myDict = {}\n",
        "for key in words:\n",
        "    myDict[key] = words.count(key)\n",
        "\n",
        "print(\"Dictionary Items  :  \",  myDict)"
      ],
      "metadata": {
        "colab": {
          "base_uri": "https://localhost:8080/"
        },
        "id": "nJBkX7-y4svp",
        "outputId": "7d93304f-e597-4e27-826b-f8c37d6faf6a"
      },
      "execution_count": 26,
      "outputs": [
        {
          "output_type": "stream",
          "name": "stdout",
          "text": [
            "Please enter any String : There are many types of lists in python\n",
            "Dictionary Items  :   {'There': 1, 'are': 1, 'many': 1, 'types': 1, 'of': 1, 'lists': 1, 'in': 1, 'python': 1}\n"
          ]
        }
      ]
    }
  ]
}